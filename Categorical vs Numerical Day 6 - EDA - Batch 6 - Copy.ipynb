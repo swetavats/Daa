{
 "cells": [
  {
   "cell_type": "markdown",
   "metadata": {},
   "source": [
    "Bivariate analysis - Categorical column vs numerical column\n",
    "\n",
    "ANOVA - An ANOVA test is a way to find out if an experiment results is significant or not. In other words, it help you to figure out if you need to reject the null hypothesis or accept the alternate hypothesis. "
   ]
  },
  {
   "cell_type": "code",
   "execution_count": 5,
   "metadata": {},
   "outputs": [
    {
     "data": {
      "text/html": [
       "<div>\n",
       "<style>\n",
       "    .dataframe thead tr:only-child th {\n",
       "        text-align: right;\n",
       "    }\n",
       "\n",
       "    .dataframe thead th {\n",
       "        text-align: left;\n",
       "    }\n",
       "\n",
       "    .dataframe tbody tr th {\n",
       "        vertical-align: top;\n",
       "    }\n",
       "</style>\n",
       "<table border=\"1\" class=\"dataframe\">\n",
       "  <thead>\n",
       "    <tr style=\"text-align: right;\">\n",
       "      <th></th>\n",
       "      <th>Unnamed: 0</th>\n",
       "      <th>weight</th>\n",
       "      <th>feed</th>\n",
       "    </tr>\n",
       "  </thead>\n",
       "  <tbody>\n",
       "    <tr>\n",
       "      <th>0</th>\n",
       "      <td>1</td>\n",
       "      <td>179</td>\n",
       "      <td>horsebean</td>\n",
       "    </tr>\n",
       "    <tr>\n",
       "      <th>1</th>\n",
       "      <td>2</td>\n",
       "      <td>160</td>\n",
       "      <td>horsebean</td>\n",
       "    </tr>\n",
       "    <tr>\n",
       "      <th>2</th>\n",
       "      <td>3</td>\n",
       "      <td>136</td>\n",
       "      <td>horsebean</td>\n",
       "    </tr>\n",
       "    <tr>\n",
       "      <th>3</th>\n",
       "      <td>4</td>\n",
       "      <td>227</td>\n",
       "      <td>horsebean</td>\n",
       "    </tr>\n",
       "    <tr>\n",
       "      <th>4</th>\n",
       "      <td>5</td>\n",
       "      <td>217</td>\n",
       "      <td>horsebean</td>\n",
       "    </tr>\n",
       "  </tbody>\n",
       "</table>\n",
       "</div>"
      ],
      "text/plain": [
       "   Unnamed: 0  weight       feed\n",
       "0           1     179  horsebean\n",
       "1           2     160  horsebean\n",
       "2           3     136  horsebean\n",
       "3           4     227  horsebean\n",
       "4           5     217  horsebean"
      ]
     },
     "execution_count": 5,
     "metadata": {},
     "output_type": "execute_result"
    }
   ],
   "source": [
    "# We will use the inbuild data set from pydataset\n",
    "\n",
    "#from pydataset import data\n",
    "import pandas as pd\n",
    "df =pd.read_csv(\"C:/Users/mathumitham/Desktop/Batch 6 - EDA/ChickWts.csv\")\n",
    "df.head()"
   ]
  },
  {
   "cell_type": "code",
   "execution_count": 6,
   "metadata": {},
   "outputs": [
    {
     "data": {
      "text/html": [
       "<div>\n",
       "<style>\n",
       "    .dataframe thead tr:only-child th {\n",
       "        text-align: right;\n",
       "    }\n",
       "\n",
       "    .dataframe thead th {\n",
       "        text-align: left;\n",
       "    }\n",
       "\n",
       "    .dataframe tbody tr th {\n",
       "        vertical-align: top;\n",
       "    }\n",
       "</style>\n",
       "<table border=\"1\" class=\"dataframe\">\n",
       "  <thead>\n",
       "    <tr style=\"text-align: right;\">\n",
       "      <th></th>\n",
       "      <th>feed</th>\n",
       "      <th>0</th>\n",
       "    </tr>\n",
       "  </thead>\n",
       "  <tbody>\n",
       "    <tr>\n",
       "      <th>0</th>\n",
       "      <td>casein</td>\n",
       "      <td>12</td>\n",
       "    </tr>\n",
       "    <tr>\n",
       "      <th>1</th>\n",
       "      <td>horsebean</td>\n",
       "      <td>10</td>\n",
       "    </tr>\n",
       "    <tr>\n",
       "      <th>2</th>\n",
       "      <td>linseed</td>\n",
       "      <td>12</td>\n",
       "    </tr>\n",
       "    <tr>\n",
       "      <th>3</th>\n",
       "      <td>meatmeal</td>\n",
       "      <td>11</td>\n",
       "    </tr>\n",
       "    <tr>\n",
       "      <th>4</th>\n",
       "      <td>soybean</td>\n",
       "      <td>14</td>\n",
       "    </tr>\n",
       "    <tr>\n",
       "      <th>5</th>\n",
       "      <td>sunflower</td>\n",
       "      <td>12</td>\n",
       "    </tr>\n",
       "  </tbody>\n",
       "</table>\n",
       "</div>"
      ],
      "text/plain": [
       "        feed   0\n",
       "0     casein  12\n",
       "1  horsebean  10\n",
       "2    linseed  12\n",
       "3   meatmeal  11\n",
       "4    soybean  14\n",
       "5  sunflower  12"
      ]
     },
     "execution_count": 6,
     "metadata": {},
     "output_type": "execute_result"
    }
   ],
   "source": [
    "# Lets check the sample size of each feed\n",
    "\n",
    "df.groupby(['feed']).size().reset_index()"
   ]
  },
  {
   "cell_type": "code",
   "execution_count": 7,
   "metadata": {},
   "outputs": [
    {
     "data": {
      "text/html": [
       "<div>\n",
       "<style scoped>\n",
       "    .dataframe tbody tr th:only-of-type {\n",
       "        vertical-align: middle;\n",
       "    }\n",
       "\n",
       "    .dataframe tbody tr th {\n",
       "        vertical-align: top;\n",
       "    }\n",
       "\n",
       "    .dataframe thead th {\n",
       "        text-align: right;\n",
       "    }\n",
       "</style>\n",
       "<table border=\"1\" class=\"dataframe\">\n",
       "  <thead>\n",
       "    <tr style=\"text-align: right;\">\n",
       "      <th></th>\n",
       "      <th>feed</th>\n",
       "      <th>weight</th>\n",
       "    </tr>\n",
       "  </thead>\n",
       "  <tbody>\n",
       "    <tr>\n",
       "      <th>0</th>\n",
       "      <td>casein</td>\n",
       "      <td>323.583333</td>\n",
       "    </tr>\n",
       "    <tr>\n",
       "      <th>1</th>\n",
       "      <td>horsebean</td>\n",
       "      <td>160.200000</td>\n",
       "    </tr>\n",
       "    <tr>\n",
       "      <th>2</th>\n",
       "      <td>linseed</td>\n",
       "      <td>218.750000</td>\n",
       "    </tr>\n",
       "    <tr>\n",
       "      <th>3</th>\n",
       "      <td>meatmeal</td>\n",
       "      <td>276.909091</td>\n",
       "    </tr>\n",
       "    <tr>\n",
       "      <th>4</th>\n",
       "      <td>soybean</td>\n",
       "      <td>246.428571</td>\n",
       "    </tr>\n",
       "    <tr>\n",
       "      <th>5</th>\n",
       "      <td>sunflower</td>\n",
       "      <td>328.916667</td>\n",
       "    </tr>\n",
       "  </tbody>\n",
       "</table>\n",
       "</div>"
      ],
      "text/plain": [
       "        feed      weight\n",
       "0     casein  323.583333\n",
       "1  horsebean  160.200000\n",
       "2    linseed  218.750000\n",
       "3   meatmeal  276.909091\n",
       "4    soybean  246.428571\n",
       "5  sunflower  328.916667"
      ]
     },
     "execution_count": 7,
     "metadata": {},
     "output_type": "execute_result"
    }
   ],
   "source": [
    "# Sample size seems having almost equal Sample Sizes\n",
    "\n",
    "# lets also check the mean weight of each feed\n",
    "\n",
    "df.groupby(['feed'])['weight'].mean().reset_index()"
   ]
  },
  {
   "cell_type": "code",
   "execution_count": 10,
   "metadata": {
    "collapsed": true
   },
   "outputs": [],
   "source": [
    "# Lets create a Null and alternate hypothesis\n",
    "\n",
    "# H0 : feed has not impact on weight\n",
    "# H1 : feed does impact weight\n",
    "\n",
    "# Input to the ANOVA function is the pandas series of different sample\n",
    "\n",
    "# Lets create pandas series for each group by following below steps\n",
    "\n",
    "# Step 1: Creating pandas series of weight for each group\n",
    "\n",
    "casein = df['weight'][df['feed'] == 'casein']\n",
    "horsebean = df['weight'][df['feed'] == 'horsebean']\n",
    "linseed = df['weight'][df['feed'] == 'linseed']\n",
    "meatmeal = df['weight'][df['feed'] == 'meatmeal']\n",
    "soybean = df['weight'][df['feed'] == 'soybean']\n",
    "sunflower = df['weight'][df['feed'] == 'sunflower']"
   ]
  },
  {
   "cell_type": "code",
   "execution_count": 12,
   "metadata": {},
   "outputs": [
    {
     "data": {
      "text/plain": [
       "59    368\n",
       "60    390\n",
       "61    379\n",
       "62    260\n",
       "63    404\n",
       "64    318\n",
       "65    352\n",
       "66    359\n",
       "67    216\n",
       "68    222\n",
       "69    283\n",
       "70    332\n",
       "Name: weight, dtype: int64"
      ]
     },
     "execution_count": 12,
     "metadata": {},
     "output_type": "execute_result"
    }
   ],
   "source": [
    "casein"
   ]
  },
  {
   "cell_type": "code",
   "execution_count": 35,
   "metadata": {},
   "outputs": [
    {
     "data": {
      "text/plain": [
       "F_onewayResult(statistic=15.364799774712534, pvalue=5.936419853471331e-10)"
      ]
     },
     "execution_count": 35,
     "metadata": {},
     "output_type": "execute_result"
    }
   ],
   "source": [
    "# Perform the ANOVA\n",
    "\n",
    "import scipy.stats as stats\n",
    "\n",
    "stats.f_oneway(casein, horsebean, linseed, meatmeal, soybean, sunflower)"
   ]
  },
  {
   "cell_type": "markdown",
   "metadata": {},
   "source": [
    "As the p-value is less than alpha we can reject our null hypothesis - which means that feed have impact on weight"
   ]
  },
  {
   "cell_type": "code",
   "execution_count": 37,
   "metadata": {},
   "outputs": [
    {
     "data": {
      "text/html": [
       "<table class=\"simpletable\">\n",
       "<caption>Multiple Comparison of Means - Tukey HSD,FWER=0.05</caption>\n",
       "<tr>\n",
       "   <th>group1</th>    <th>group2</th>   <th>meandiff</th>    <th>lower</th>     <th>upper</th>  <th>reject</th>\n",
       "</tr>\n",
       "<tr>\n",
       "   <td>casein</td>   <td>horsebean</td> <td>-163.3833</td> <td>-232.3445</td> <td>-94.4222</td>  <td>True</td> \n",
       "</tr>\n",
       "<tr>\n",
       "   <td>casein</td>    <td>linseed</td>  <td>-104.8333</td> <td>-170.5852</td> <td>-39.0814</td>  <td>True</td> \n",
       "</tr>\n",
       "<tr>\n",
       "   <td>casein</td>   <td>meatmeal</td>  <td>-46.6742</td>  <td>-113.9039</td>  <td>20.5554</td>  <td>False</td>\n",
       "</tr>\n",
       "<tr>\n",
       "   <td>casein</td>    <td>soybean</td>  <td>-77.1548</td>  <td>-140.5149</td> <td>-13.7947</td>  <td>True</td> \n",
       "</tr>\n",
       "<tr>\n",
       "   <td>casein</td>   <td>sunflower</td>  <td>5.3333</td>   <td>-60.4186</td>   <td>71.0852</td>  <td>False</td>\n",
       "</tr>\n",
       "<tr>\n",
       "  <td>horsebean</td>  <td>linseed</td>    <td>58.55</td>   <td>-10.4112</td>  <td>127.5112</td>  <td>False</td>\n",
       "</tr>\n",
       "<tr>\n",
       "  <td>horsebean</td> <td>meatmeal</td>  <td>116.7091</td>   <td>46.3375</td>  <td>187.0806</td>  <td>True</td> \n",
       "</tr>\n",
       "<tr>\n",
       "  <td>horsebean</td>  <td>soybean</td>   <td>86.2286</td>   <td>19.544</td>   <td>152.9132</td>  <td>True</td> \n",
       "</tr>\n",
       "<tr>\n",
       "  <td>horsebean</td> <td>sunflower</td> <td>168.7167</td>   <td>99.7555</td>  <td>237.6778</td>  <td>True</td> \n",
       "</tr>\n",
       "<tr>\n",
       "   <td>linseed</td>  <td>meatmeal</td>   <td>58.1591</td>   <td>-9.0705</td>  <td>125.3887</td>  <td>False</td>\n",
       "</tr>\n",
       "<tr>\n",
       "   <td>linseed</td>   <td>soybean</td>   <td>27.6786</td>  <td>-35.6815</td>   <td>91.0387</td>  <td>False</td>\n",
       "</tr>\n",
       "<tr>\n",
       "   <td>linseed</td>  <td>sunflower</td> <td>110.1667</td>   <td>44.4148</td>  <td>175.9186</td>  <td>True</td> \n",
       "</tr>\n",
       "<tr>\n",
       "  <td>meatmeal</td>   <td>soybean</td>  <td>-30.4805</td>  <td>-95.3729</td>   <td>34.4118</td>  <td>False</td>\n",
       "</tr>\n",
       "<tr>\n",
       "  <td>meatmeal</td>  <td>sunflower</td>  <td>52.0076</td>  <td>-15.2221</td>  <td>119.2372</td>  <td>False</td>\n",
       "</tr>\n",
       "<tr>\n",
       "   <td>soybean</td>  <td>sunflower</td>  <td>82.4881</td>   <td>19.128</td>   <td>145.8482</td>  <td>True</td> \n",
       "</tr>\n",
       "</table>"
      ],
      "text/plain": [
       "<class 'statsmodels.iolib.table.SimpleTable'>"
      ]
     },
     "execution_count": 37,
     "metadata": {},
     "output_type": "execute_result"
    }
   ],
   "source": [
    "from statsmodels.stats.multicomp import pairwise_tukeyhsd\n",
    "\n",
    "tukey = pairwise_tukeyhsd(df['weight'], df['feed'], alpha=0.05)\n",
    "\n",
    "tukey.summary()"
   ]
  },
  {
   "cell_type": "markdown",
   "metadata": {},
   "source": [
    "Two way ANOVA - without replication - We can not use stats.f_oneway as stats do not have function for two way test. Thus we will use library know as statsmodels to implement two way ANOVA"
   ]
  }
 ],
 "metadata": {
  "kernelspec": {
   "display_name": "Python 3",
   "language": "python",
   "name": "python3"
  },
  "language_info": {
   "codemirror_mode": {
    "name": "ipython",
    "version": 3
   },
   "file_extension": ".py",
   "mimetype": "text/x-python",
   "name": "python",
   "nbconvert_exporter": "python",
   "pygments_lexer": "ipython3",
   "version": "3.6.8"
  }
 },
 "nbformat": 4,
 "nbformat_minor": 2
}
